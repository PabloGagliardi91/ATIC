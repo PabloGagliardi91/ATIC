{
  "nbformat": 4,
  "nbformat_minor": 0,
  "metadata": {
    "colab": {
      "provenance": []
    },
    "kernelspec": {
      "name": "python3",
      "display_name": "Python 3"
    },
    "language_info": {
      "name": "python"
    }
  },
  "cells": [
    {
      "cell_type": "markdown",
      "source": [
        "#Actividad 1"
      ],
      "metadata": {
        "id": "rsZWE2ki25pH"
      }
    },
    {
      "cell_type": "code",
      "source": [
        "root_path = 'drive/MyDrive/Colab Notebooks/'\n",
        "\n",
        "from google.colab import drive\n",
        "drive.mount('/content/drive', force_remount=True)\n",
        "\n",
        "import datetime, math\n",
        "import sys\n",
        "\n",
        "sys.path.append('/content/' + root_path)\n",
        "\n",
        "from MRE import Job\n"
      ],
      "metadata": {
        "colab": {
          "base_uri": "https://localhost:8080/"
        },
        "id": "ieWJU2rzzw3B",
        "outputId": "50710b94-a774-4108-ee39-e1adc6184f31"
      },
      "execution_count": null,
      "outputs": [
        {
          "output_type": "stream",
          "name": "stdout",
          "text": [
            "Mounted at /content/drive\n"
          ]
        }
      ]
    },
    {
      "cell_type": "markdown",
      "source": [
        "#1) Implemente un job MapReduce que resuelva la unión de dos datasets (meses).\n"
      ],
      "metadata": {
        "id": "Dts-Btw-27rl"
      }
    },
    {
      "cell_type": "code",
      "execution_count": null,
      "metadata": {
        "colab": {
          "base_uri": "https://localhost:8080/"
        },
        "id": "kv_gLIbc5Yob",
        "outputId": "9f985677-3e2b-4616-8d7e-9177e21532fc"
      },
      "outputs": [
        {
          "output_type": "stream",
          "name": "stdout",
          "text": [
            "True\n"
          ]
        }
      ],
      "source": [
        "\n",
        "\n",
        "inputDir1 = \"/content/drive/MyDrive/Colab Notebooks/Actividad1/input/Enero\"\n",
        "inputDir2 =  \"/content/drive/MyDrive/Colab Notebooks/Actividad1/input/Febrero\"\n",
        "outputDir = \"/content/drive/MyDrive/Colab Notebooks/Actividad1/output\"\n",
        "def fmap(key, value, context):\n",
        "    context.write(value, 1)            #De esta forma logramos que haya un reducer para cada elemento y como valor enviamos el identificador del conjunto al que pertenece\n",
        "        \n",
        "def fred(key, values, context):\n",
        "    \n",
        "    context.write(1, key)             #Se escribirá una vez por cada reducer, evitando valores duplicados en el archivo de salida. \n",
        "\n",
        "job = Job(inputDir1, outputDir, fmap, fred)\n",
        "job.addInputPath(inputDir2, fmap)\n",
        "success = job.waitForCompletion()\n",
        "print(success)\n"
      ]
    },
    {
      "cell_type": "markdown",
      "source": [
        "#2)Implemente un job MapReduce que resuelva la intersección de dos datasets (meses)\n",
        "\n"
      ],
      "metadata": {
        "id": "9pQwC-y6yQLf"
      }
    },
    {
      "cell_type": "code",
      "source": [
        "inputDir1 = \"/content/drive/MyDrive/Colab Notebooks/Actividad1/input/pruebas/primero\"\n",
        "inputDir2 =  \"/content/drive/MyDrive/Colab Notebooks/Actividad1/input/pruebas/segundo\"\n",
        "outputDir = \"/content/drive/MyDrive/Colab Notebooks/Actividad1/output2\"\n",
        "\n",
        "def fmap(key, value, context):\n",
        "    context.write(value , 1)               \n",
        "\n",
        "def fmap2(key, value, context):   #De esta forma logramos que haya un reducer para cada elemento y como valor enviamos el identificador del conjunto al que pertenece\n",
        "    context.write(value , 2)               \n",
        "\n",
        "\n",
        "def fred(key, values, context):\n",
        "    mes1=False\n",
        "    mes2=False\n",
        "    for v in values:\n",
        "      if v == 1 :\n",
        "        mes1=True\n",
        "      else:\n",
        "        mes2=True\n",
        "    if (mes1 and mes2):\n",
        "      context.write(key, \"\")    #Solo se escriben como salida los valores que aparecen en AMBAS entradas (meses)\n",
        "\n",
        "job = Job(inputDir1, outputDir, fmap, fred)\n",
        "job.addInputPath(inputDir2, fmap2)\n",
        "success = job.waitForCompletion()\n",
        "print(success)"
      ],
      "metadata": {
        "colab": {
          "base_uri": "https://localhost:8080/"
        },
        "id": "ZIUPZ8K34MN7",
        "outputId": "01c51b66-7d9d-405c-839f-3c4f868516fd"
      },
      "execution_count": null,
      "outputs": [
        {
          "output_type": "stream",
          "name": "stdout",
          "text": [
            "True\n"
          ]
        }
      ]
    },
    {
      "cell_type": "markdown",
      "source": [
        "#3) Implemente un job MapReduce que permita determinar si dos datasets (meses) son iguales. Dos conjuntos son iguales si ambos tienen los mismos elementos sin importar cuántas veces se repitan dentro de cada conjunto."
      ],
      "metadata": {
        "id": "5PuPP9lM4rL-"
      }
    },
    {
      "cell_type": "code",
      "source": [
        "import os\n",
        "inputDir1 = \"/content/drive/MyDrive/Colab Notebooks/Actividad1/input/pruebas/primero\"\n",
        "inputDir2 =  \"/content/drive/MyDrive/Colab Notebooks/Actividad1/input/pruebas/segundo\"\n",
        "outputDir = \"/content/drive/MyDrive/Colab Notebooks/Actividad1/output3b\"\n",
        "\n",
        "def fmap(key, value, context):\n",
        "    context.write(value , 1)               \n",
        "\n",
        "def fmap2(key, value, context):        #De esta forma logramos que haya un reducer para cada elemento y como valor enviamos el identificador del conjunto al que pertenece\n",
        "    context.write(value , 2)               \n",
        "\n",
        "\n",
        "def fred(key, values, context):\n",
        "    mes1=False\n",
        "    mes2=False\n",
        "    for v in values:\n",
        "      if v == 1 :\n",
        "        mes1=True\n",
        "      else:\n",
        "        mes2=True\n",
        "    if not(mes1 and mes2):            #Si los valores NO aparecen en AMBAS entradas, entonces los conjuntos (meses) son distintos.\n",
        "      context.write(\"Distintos\", \"\")\n",
        "\n",
        "job = Job(inputDir1, outputDir, fmap, fred)\n",
        "job.addInputPath(inputDir2, fmap2)\n",
        "success = job.waitForCompletion()\n",
        "print(success)\n",
        "\n",
        "#A partir de acá el problema deja de ser big data, el archivo resultante puede ser consultado por su tamaño,\n",
        "# y si este es mayor a 0b quiere decir que hay distintos y no son iguales\n",
        "sizeFile= os.stat(outputDir +\"/output.txt\").st_size\n",
        "if sizeFile > 0: \n",
        "  print(\"Los conjuntos son distintos.\")\n",
        "else:\n",
        "  print(\"Los conjuntos son iguales.\")\n"
      ],
      "metadata": {
        "colab": {
          "base_uri": "https://localhost:8080/"
        },
        "id": "ZeksIvChvS7N",
        "outputId": "57dd932f-a87f-495e-c8e8-23e8dbae7838"
      },
      "execution_count": null,
      "outputs": [
        {
          "output_type": "stream",
          "name": "stdout",
          "text": [
            "True\n",
            "Los conjuntos son distintos.\n"
          ]
        }
      ]
    },
    {
      "cell_type": "markdown",
      "source": [
        "#4) Indique para cada uno de los ejercicios anteriores si cada uno de los job implementados se pueden generalizar para N conjuntos. Es decir:\n",
        "#i. Un único job que resuelva la unión de N conjuntos.\n",
        "      Se podría ya que se generan tantos reducers como claves y\n",
        "      escriben una vez sola. se deberian configurar con addinputpaths\n",
        "      las rutas a todos los conjuntos a procesar. \n",
        "      El mapper haría lo mismo que ahora, mandaría como clave el valor y como\n",
        "      valor el identificador del conjunto al que pertenece. Y el reducer \n",
        "      escribiría una sola vez para cada clave recibida, a modo de evitar \n",
        "      duplicados en la salida.      \n",
        "\n",
        "\n",
        "\n",
        "#ii. Un único job que resuelva la intersección de N conjuntos.\n",
        "      \n",
        "      Se podría siempre y cuando sea un N controlable (meses son 12) hay que\n",
        "      poner una funcion map para cada conjunto (mes) y  verificar\n",
        "      que esté en todos los meses. Se consultaría por que aparezca en todos.\n",
        "      La funcion mapper haría lo mismo, siendo necesario uno para cada conjunto\n",
        "      y la función reducer verifica la pertenencia del valor a todos los\n",
        "      conjuntos haciendo \n",
        "      if (mes1 and mes2 and ..... and mesN):\n",
        "\n",
        "#iii. Un único job que permita determinar si N conjuntos son iguales entre si.\n",
        "#Justifique su respuesta explicando, en caso afirmativo como sería la solución; y en caso negativo, por qué no es posible su resolución con un único Job.\n",
        "\n",
        "      Al igual que en la intersección, implica tener variables y funciones map\n",
        "      para cada conjunto (mes) que llega en la clave .\n",
        "      Es viable siempre y cuando N sea controlable. Al momento de trabajar con \n",
        "      un gran número de conjuntos, esta solución podría ser ineficiente ya que\n",
        "      requiere contemplar la pertenencia del valor a cada uno de estos.\n",
        "      La función mapper hace lo mismo que en los jobs anteriores, y la función\n",
        "      reducer consulta por lo opuesto al job anterior: \n",
        "\n",
        "                    if not(mes1 and mes2 and mes3 ....and mesN):\n",
        "                    \n",
        "      Generando salida solo si el valor no se encuentra en alguno de los\n",
        "      conjuntos.\n",
        "      A partir de esto deja de ser big data, el archivo resultante puede ser\n",
        "      consultado por su tamaño, y si este es mayor a 0b quiere decir que hay\n",
        "      elementos que no pertenecen a todos los conjuntos , es decir los conjuntos\n",
        "      no son iguales. "
      ],
      "metadata": {
        "id": "D8dqY4-L5OKU"
      }
    }
  ]
}